{
 "cells": [
  {
   "cell_type": "code",
   "execution_count": 1,
   "id": "ede32421-82cb-4861-9a59-82360a707682",
   "metadata": {},
   "outputs": [],
   "source": [
    "import optuna\n",
    "import tensorflow as tf\n",
    "from sklearn.metrics import f1_score\n",
    "from tensorflow.keras import layers, models\n",
    "from tensorflow.keras.applications import EfficientNetB0\n",
    "import keras\n",
    "from tensorflow.keras.callbacks import EarlyStopping, ModelCheckpoint"
   ]
  },
  {
   "cell_type": "code",
   "execution_count": 2,
   "id": "70c21d98-288a-477e-8e81-9a6fcf90f623",
   "metadata": {},
   "outputs": [],
   "source": [
    "img_gen = tf.keras.preprocessing.image.ImageDataGenerator(\n",
    "    rescale=1./255,\n",
    "    validation_split=0.2\n",
    ")"
   ]
  },
  {
   "cell_type": "code",
   "execution_count": 3,
   "id": "19d1738f-81d5-45ec-bb9d-5f1daf43b8bf",
   "metadata": {},
   "outputs": [],
   "source": [
    "import pandas as pd"
   ]
  },
  {
   "cell_type": "code",
   "execution_count": 4,
   "id": "5066f977-419b-429a-810b-b269d6ce5d49",
   "metadata": {},
   "outputs": [
    {
     "data": {
      "text/html": [
       "<div>\n",
       "<style scoped>\n",
       "    .dataframe tbody tr th:only-of-type {\n",
       "        vertical-align: middle;\n",
       "    }\n",
       "\n",
       "    .dataframe tbody tr th {\n",
       "        vertical-align: top;\n",
       "    }\n",
       "\n",
       "    .dataframe thead th {\n",
       "        text-align: right;\n",
       "    }\n",
       "</style>\n",
       "<table border=\"1\" class=\"dataframe\">\n",
       "  <thead>\n",
       "    <tr style=\"text-align: right;\">\n",
       "      <th></th>\n",
       "      <th>Unnamed: 0</th>\n",
       "      <th>file_name</th>\n",
       "      <th>label</th>\n",
       "    </tr>\n",
       "  </thead>\n",
       "  <tbody>\n",
       "    <tr>\n",
       "      <th>0</th>\n",
       "      <td>0</td>\n",
       "      <td>train_data/a6dcb93f596a43249135678dfcfc17ea.jpg</td>\n",
       "      <td>1</td>\n",
       "    </tr>\n",
       "    <tr>\n",
       "      <th>1</th>\n",
       "      <td>1</td>\n",
       "      <td>train_data/041be3153810433ab146bc97d5af505c.jpg</td>\n",
       "      <td>0</td>\n",
       "    </tr>\n",
       "    <tr>\n",
       "      <th>2</th>\n",
       "      <td>2</td>\n",
       "      <td>train_data/615df26ce9494e5db2f70e57ce7a3a4f.jpg</td>\n",
       "      <td>1</td>\n",
       "    </tr>\n",
       "    <tr>\n",
       "      <th>3</th>\n",
       "      <td>3</td>\n",
       "      <td>train_data/8542fe161d9147be8e835e50c0de39cd.jpg</td>\n",
       "      <td>0</td>\n",
       "    </tr>\n",
       "    <tr>\n",
       "      <th>4</th>\n",
       "      <td>4</td>\n",
       "      <td>train_data/5d81fa12bc3b4cea8c94a6700a477cf2.jpg</td>\n",
       "      <td>1</td>\n",
       "    </tr>\n",
       "    <tr>\n",
       "      <th>...</th>\n",
       "      <td>...</td>\n",
       "      <td>...</td>\n",
       "      <td>...</td>\n",
       "    </tr>\n",
       "    <tr>\n",
       "      <th>79945</th>\n",
       "      <td>79945</td>\n",
       "      <td>train_data/9283b107f6274279b6f15bbe77c523aa.jpg</td>\n",
       "      <td>0</td>\n",
       "    </tr>\n",
       "    <tr>\n",
       "      <th>79946</th>\n",
       "      <td>79946</td>\n",
       "      <td>train_data/4c6b17fe6dd743428a45773135a10508.jpg</td>\n",
       "      <td>1</td>\n",
       "    </tr>\n",
       "    <tr>\n",
       "      <th>79947</th>\n",
       "      <td>79947</td>\n",
       "      <td>train_data/1ccbf96d04e342fd9f629ad55466b29e.jpg</td>\n",
       "      <td>0</td>\n",
       "    </tr>\n",
       "    <tr>\n",
       "      <th>79948</th>\n",
       "      <td>79948</td>\n",
       "      <td>train_data/ff960b55f296445abb3c5f304b52e104.jpg</td>\n",
       "      <td>1</td>\n",
       "    </tr>\n",
       "    <tr>\n",
       "      <th>79949</th>\n",
       "      <td>79949</td>\n",
       "      <td>train_data/3abd1876472f4ec988aa78f76664fbd6.jpg</td>\n",
       "      <td>0</td>\n",
       "    </tr>\n",
       "  </tbody>\n",
       "</table>\n",
       "<p>79950 rows × 3 columns</p>\n",
       "</div>"
      ],
      "text/plain": [
       "       Unnamed: 0                                        file_name  label\n",
       "0               0  train_data/a6dcb93f596a43249135678dfcfc17ea.jpg      1\n",
       "1               1  train_data/041be3153810433ab146bc97d5af505c.jpg      0\n",
       "2               2  train_data/615df26ce9494e5db2f70e57ce7a3a4f.jpg      1\n",
       "3               3  train_data/8542fe161d9147be8e835e50c0de39cd.jpg      0\n",
       "4               4  train_data/5d81fa12bc3b4cea8c94a6700a477cf2.jpg      1\n",
       "...           ...                                              ...    ...\n",
       "79945       79945  train_data/9283b107f6274279b6f15bbe77c523aa.jpg      0\n",
       "79946       79946  train_data/4c6b17fe6dd743428a45773135a10508.jpg      1\n",
       "79947       79947  train_data/1ccbf96d04e342fd9f629ad55466b29e.jpg      0\n",
       "79948       79948  train_data/ff960b55f296445abb3c5f304b52e104.jpg      1\n",
       "79949       79949  train_data/3abd1876472f4ec988aa78f76664fbd6.jpg      0\n",
       "\n",
       "[79950 rows x 3 columns]"
      ]
     },
     "execution_count": 4,
     "metadata": {},
     "output_type": "execute_result"
    }
   ],
   "source": [
    "train_df = pd.read_csv(\"train.csv\")\n",
    "train_df"
   ]
  },
  {
   "cell_type": "code",
   "execution_count": 5,
   "id": "48516044-823a-413d-9b29-50c4f87036d5",
   "metadata": {},
   "outputs": [
    {
     "data": {
      "text/html": [
       "<div>\n",
       "<style scoped>\n",
       "    .dataframe tbody tr th:only-of-type {\n",
       "        vertical-align: middle;\n",
       "    }\n",
       "\n",
       "    .dataframe tbody tr th {\n",
       "        vertical-align: top;\n",
       "    }\n",
       "\n",
       "    .dataframe thead th {\n",
       "        text-align: right;\n",
       "    }\n",
       "</style>\n",
       "<table border=\"1\" class=\"dataframe\">\n",
       "  <thead>\n",
       "    <tr style=\"text-align: right;\">\n",
       "      <th></th>\n",
       "      <th>Unnamed: 0</th>\n",
       "      <th>file_name</th>\n",
       "      <th>label</th>\n",
       "    </tr>\n",
       "  </thead>\n",
       "  <tbody>\n",
       "    <tr>\n",
       "      <th>0</th>\n",
       "      <td>0</td>\n",
       "      <td>train_data/a6dcb93f596a43249135678dfcfc17ea.jpg</td>\n",
       "      <td>ai</td>\n",
       "    </tr>\n",
       "    <tr>\n",
       "      <th>1</th>\n",
       "      <td>1</td>\n",
       "      <td>train_data/041be3153810433ab146bc97d5af505c.jpg</td>\n",
       "      <td>human</td>\n",
       "    </tr>\n",
       "    <tr>\n",
       "      <th>2</th>\n",
       "      <td>2</td>\n",
       "      <td>train_data/615df26ce9494e5db2f70e57ce7a3a4f.jpg</td>\n",
       "      <td>ai</td>\n",
       "    </tr>\n",
       "    <tr>\n",
       "      <th>3</th>\n",
       "      <td>3</td>\n",
       "      <td>train_data/8542fe161d9147be8e835e50c0de39cd.jpg</td>\n",
       "      <td>human</td>\n",
       "    </tr>\n",
       "    <tr>\n",
       "      <th>4</th>\n",
       "      <td>4</td>\n",
       "      <td>train_data/5d81fa12bc3b4cea8c94a6700a477cf2.jpg</td>\n",
       "      <td>ai</td>\n",
       "    </tr>\n",
       "    <tr>\n",
       "      <th>...</th>\n",
       "      <td>...</td>\n",
       "      <td>...</td>\n",
       "      <td>...</td>\n",
       "    </tr>\n",
       "    <tr>\n",
       "      <th>79945</th>\n",
       "      <td>79945</td>\n",
       "      <td>train_data/9283b107f6274279b6f15bbe77c523aa.jpg</td>\n",
       "      <td>human</td>\n",
       "    </tr>\n",
       "    <tr>\n",
       "      <th>79946</th>\n",
       "      <td>79946</td>\n",
       "      <td>train_data/4c6b17fe6dd743428a45773135a10508.jpg</td>\n",
       "      <td>ai</td>\n",
       "    </tr>\n",
       "    <tr>\n",
       "      <th>79947</th>\n",
       "      <td>79947</td>\n",
       "      <td>train_data/1ccbf96d04e342fd9f629ad55466b29e.jpg</td>\n",
       "      <td>human</td>\n",
       "    </tr>\n",
       "    <tr>\n",
       "      <th>79948</th>\n",
       "      <td>79948</td>\n",
       "      <td>train_data/ff960b55f296445abb3c5f304b52e104.jpg</td>\n",
       "      <td>ai</td>\n",
       "    </tr>\n",
       "    <tr>\n",
       "      <th>79949</th>\n",
       "      <td>79949</td>\n",
       "      <td>train_data/3abd1876472f4ec988aa78f76664fbd6.jpg</td>\n",
       "      <td>human</td>\n",
       "    </tr>\n",
       "  </tbody>\n",
       "</table>\n",
       "<p>79950 rows × 3 columns</p>\n",
       "</div>"
      ],
      "text/plain": [
       "       Unnamed: 0                                        file_name  label\n",
       "0               0  train_data/a6dcb93f596a43249135678dfcfc17ea.jpg     ai\n",
       "1               1  train_data/041be3153810433ab146bc97d5af505c.jpg  human\n",
       "2               2  train_data/615df26ce9494e5db2f70e57ce7a3a4f.jpg     ai\n",
       "3               3  train_data/8542fe161d9147be8e835e50c0de39cd.jpg  human\n",
       "4               4  train_data/5d81fa12bc3b4cea8c94a6700a477cf2.jpg     ai\n",
       "...           ...                                              ...    ...\n",
       "79945       79945  train_data/9283b107f6274279b6f15bbe77c523aa.jpg  human\n",
       "79946       79946  train_data/4c6b17fe6dd743428a45773135a10508.jpg     ai\n",
       "79947       79947  train_data/1ccbf96d04e342fd9f629ad55466b29e.jpg  human\n",
       "79948       79948  train_data/ff960b55f296445abb3c5f304b52e104.jpg     ai\n",
       "79949       79949  train_data/3abd1876472f4ec988aa78f76664fbd6.jpg  human\n",
       "\n",
       "[79950 rows x 3 columns]"
      ]
     },
     "execution_count": 5,
     "metadata": {},
     "output_type": "execute_result"
    }
   ],
   "source": [
    "train_df.label = train_df.label.map({1: 'ai', 0: 'human'})\n",
    "train_df"
   ]
  },
  {
   "cell_type": "code",
   "execution_count": 6,
   "id": "a4bb8f0c-f9ff-43e9-bfd8-5ee3a1a96784",
   "metadata": {},
   "outputs": [
    {
     "name": "stdout",
     "output_type": "stream",
     "text": [
      "Found 63960 validated image filenames belonging to 2 classes.\n"
     ]
    }
   ],
   "source": [
    "train_data = img_gen.flow_from_dataframe(\n",
    "    train_df,\n",
    "    x_col='file_name',\n",
    "    y_col='label',\n",
    "    target_size=(224, 224),\n",
    "    color_mode='rgb',\n",
    "    class_mode='binary',\n",
    "    batch_size=32,\n",
    "    subset=\"training\"\n",
    ")"
   ]
  },
  {
   "cell_type": "code",
   "execution_count": 7,
   "id": "e33d5818-31df-4d51-a014-5228487d8fb9",
   "metadata": {},
   "outputs": [
    {
     "name": "stdout",
     "output_type": "stream",
     "text": [
      "Found 15990 validated image filenames belonging to 2 classes.\n"
     ]
    }
   ],
   "source": [
    "val_data = img_gen.flow_from_dataframe(\n",
    "    train_df,\n",
    "    x_col='file_name',\n",
    "    y_col='label',\n",
    "    target_size=(224, 224),\n",
    "    color_mode='rgb',\n",
    "    class_mode='binary',\n",
    "    batch_size=32,\n",
    "    subset=\"validation\"\n",
    ")"
   ]
  },
  {
   "cell_type": "code",
   "execution_count": 8,
   "id": "a96450c5-0402-4244-816e-65eca45f945a",
   "metadata": {},
   "outputs": [],
   "source": [
    "base_model = EfficientNetB0(input_shape=(224, 224, 3), include_top=False, weights=\"imagenet\")\n",
    "\n",
    "base_model.trainable = True\n",
    "\n",
    "\n",
    "unfreeze_layers = 0  \n",
    "for layer in base_model.layers[:-unfreeze_layers]:\n",
    "    layer.trainable = False\n",
    "\n",
    "model = models.Sequential([\n",
    "    base_model,\n",
    "    layers.GlobalAveragePooling2D(),  \n",
    "    \n",
    "    layers.Dense(640, kernel_initializer=\"he_normal\"),\n",
    "    layers.LeakyReLU(negative_slope=0.1),\n",
    "    layers.BatchNormalization(),\n",
    "    layers.Dropout(0.3359853061113047),\n",
    "\n",
    "    layers.Dense(256, kernel_initializer=\"he_normal\", activation=\"mish\"),\n",
    "    layers.BatchNormalization(),\n",
    "\n",
    "    layers.Dense(512, activation='relu', kernel_initializer=\"he_normal\"),\n",
    "\n",
    "    layers.Dense(1, activation='sigmoid')\n",
    "])"
   ]
  },
  {
   "cell_type": "code",
   "execution_count": 9,
   "id": "c6a17773-0c94-4bc1-bddf-0ab7b8f8b031",
   "metadata": {},
   "outputs": [],
   "source": [
    "model.compile(\n",
    "    optimizer=keras.optimizers.Adam(learning_rate=1e-3),\n",
    "    loss=keras.losses.BinaryCrossentropy(),\n",
    "    metrics=[\n",
    "        keras.metrics.BinaryAccuracy(),\n",
    "        keras.metrics.FalseNegatives(),\n",
    "    ],\n",
    ")"
   ]
  },
  {
   "cell_type": "code",
   "execution_count": null,
   "id": "80061c78-2d63-4d63-8521-c1914babdd87",
   "metadata": {},
   "outputs": [
    {
     "name": "stderr",
     "output_type": "stream",
     "text": [
      "C:\\Users\\PYTHON\\PycharmProjects\\ai_vs_human\\.venv\\lib\\site-packages\\keras\\src\\trainers\\data_adapters\\py_dataset_adapter.py:121: UserWarning: Your `PyDataset` class should call `super().__init__(**kwargs)` in its constructor. `**kwargs` can include `workers`, `use_multiprocessing`, `max_queue_size`. Do not pass these arguments to `fit()`, as they will be ignored.\n",
      "  self._warn_if_super_not_called()\n"
     ]
    },
    {
     "name": "stdout",
     "output_type": "stream",
     "text": [
      "Epoch 1/30\n",
      "\u001b[1m 260/1999\u001b[0m \u001b[32m━━\u001b[0m\u001b[37m━━━━━━━━━━━━━━━━━━\u001b[0m \u001b[1m44:52\u001b[0m 2s/step - binary_accuracy: 0.8704 - false_negatives: 221.2154 - loss: 0.3090"
     ]
    }
   ],
   "source": [
    "callbacks = [\n",
    "    EarlyStopping(monitor='val_loss', patience=5, restore_best_weights=True),\n",
    "    ModelCheckpoint('best_model.h5', monitor='val_f1_score', mode='max', save_best_only=True)\n",
    "]\n",
    "\n",
    "\n",
    "model.fit(\n",
    "    train_data,\n",
    "    validation_data=val_data,\n",
    "    epochs=10,\n",
    "    batch_size=32,\n",
    "    callbacks=callbacks,\n",
    "    verbose=1\n",
    ")"
   ]
  },
  {
   "cell_type": "code",
   "execution_count": null,
   "id": "1c4cac48-9cca-4bbc-80bb-bd5755c3c0f1",
   "metadata": {},
   "outputs": [],
   "source": []
  }
 ],
 "metadata": {
  "kernelspec": {
   "display_name": "Python 3 (ipykernel)",
   "language": "python",
   "name": "python3"
  },
  "language_info": {
   "codemirror_mode": {
    "name": "ipython",
    "version": 3
   },
   "file_extension": ".py",
   "mimetype": "text/x-python",
   "name": "python",
   "nbconvert_exporter": "python",
   "pygments_lexer": "ipython3",
   "version": "3.10.8"
  }
 },
 "nbformat": 4,
 "nbformat_minor": 5
}
